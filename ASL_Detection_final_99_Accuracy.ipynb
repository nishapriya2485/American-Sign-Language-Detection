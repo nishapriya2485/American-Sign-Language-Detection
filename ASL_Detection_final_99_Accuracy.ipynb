{
  "metadata": {
    "kernelspec": {
      "language": "python",
      "display_name": "Python 3",
      "name": "python3"
    },
    "language_info": {
      "pygments_lexer": "ipython3",
      "nbconvert_exporter": "python",
      "version": "3.6.4",
      "file_extension": ".py",
      "codemirror_mode": {
        "name": "ipython",
        "version": 3
      },
      "name": "python",
      "mimetype": "text/x-python"
    },
    "colab": {
      "provenance": [],
      "include_colab_link": true
    }
  },
  "nbformat_minor": 0,
  "nbformat": 4,
  "cells": [
    {
      "cell_type": "markdown",
      "metadata": {
        "id": "view-in-github",
        "colab_type": "text"
      },
      "source": [
        "<a href=\"https://colab.research.google.com/github/nishapriya2485/American-Sign-Language-Detection/blob/main/ASL_Detection_final_99_Accuracy.ipynb\" target=\"_parent\"><img src=\"https://colab.research.google.com/assets/colab-badge.svg\" alt=\"Open In Colab\"/></a>"
      ]
    },
    {
      "source": [
        "\n",
        "import kagglehub\n",
        "grassknoted_asl_alphabet_path = kagglehub.dataset_download('grassknoted/asl-alphabet')\n",
        "\n",
        "print('Data source import complete.')\n"
      ],
      "metadata": {
        "id": "nX2bwOillj3s",
        "colab": {
          "base_uri": "https://localhost:8080/"
        },
        "outputId": "891e7d8e-cc32-4d2a-df1f-c6be8d7ece46"
      },
      "cell_type": "code",
      "outputs": [
        {
          "output_type": "stream",
          "name": "stdout",
          "text": [
            "Data source import complete.\n"
          ]
        }
      ],
      "execution_count": null
    },
    {
      "cell_type": "markdown",
      "source": [
        "Table of contents <a id=19></a>\n",
        "1. [Importing packages](#1)\n",
        "2. [Importing the dataset from training directory](#2)\n",
        "    - 2.1 [Checking the shape of data](#3)\n",
        "    - 2.2 [Checking the shape of one image](#4)\n",
        "    - 2.3 [Viewing the image](#5)\n",
        "3. [Data processing](#6)\n",
        "    - 3.1 [Train/test split](#7)\n",
        "    - 3.2 [One-Hot-Encoding](#8)\n",
        "    - 3.3 [Dimension Check of variables](#9)\n",
        "4. [Garbage Collection](#10)\n",
        "5. [Modeling](#11)\n",
        "    - 5.1 [Importing packages](#12)\n",
        "    - 5.2 [Building the model](#13)\n",
        "    - 5.3 [Early Stopping & Compiling](#14)\n",
        "    - 5.4 [Model fitting](#15)\n",
        "    - 5.5 [Model metrics](#16)\n",
        "    - 5.6 [Predictions](#17)\n",
        "    - 5.7 [Saving the model](#18)"
      ],
      "metadata": {
        "_uuid": "f7dffeed-8cd8-493d-8284-b48aa7786711",
        "_cell_guid": "49a07585-ec11-476f-ad7c-c28337672066",
        "_kg_hide-input": false,
        "trusted": true,
        "id": "ldSfTNaYlj3v"
      }
    },
    {
      "cell_type": "markdown",
      "source": [
        "### 1. Importing packages <a id=1></a>"
      ],
      "metadata": {
        "_uuid": "c0d7c1be-58ba-4ff6-a111-25c9c31e0eda",
        "_cell_guid": "e0fffe98-758d-4319-bd66-6f207729a630",
        "trusted": true,
        "id": "lfdSq9X0lj3w"
      }
    },
    {
      "cell_type": "code",
      "source": [
        "# import data processing and visualisation libraries\n",
        "import numpy as np\n",
        "import pandas as pd\n",
        "import seaborn as sns\n",
        "import matplotlib.pyplot as plt\n",
        "%matplotlib inline\n",
        "\n",
        "# import image processing libraries\n",
        "import cv2\n",
        "import skimage\n",
        "from skimage.transform import resize\n",
        "\n",
        "# import tensorflow and keras\n",
        "import tensorflow as tf\n",
        "from tensorflow import keras\n",
        "import os\n",
        "\n",
        "print(\"Packages imported...\")"
      ],
      "metadata": {
        "_uuid": "d20235e4-152b-489d-a746-cc67a4003510",
        "_cell_guid": "1e37fef9-7f9f-4b06-a8de-3f367d649045",
        "jupyter": {
          "outputs_hidden": false
        },
        "_kg_hide-input": true,
        "trusted": true,
        "id": "aSqJ00mllj3w",
        "colab": {
          "base_uri": "https://localhost:8080/"
        },
        "outputId": "de92797e-3dbb-4328-c604-101a539f0bed"
      },
      "execution_count": null,
      "outputs": [
        {
          "output_type": "stream",
          "name": "stdout",
          "text": [
            "Packages imported...\n"
          ]
        }
      ]
    },
    {
      "cell_type": "markdown",
      "source": [
        "### 2. Importing the dataset from training directory <a id=2></a>"
      ],
      "metadata": {
        "_uuid": "05e0a0aa-da07-4dff-a4d7-66ca13fa80b1",
        "_cell_guid": "b3a465c1-760b-48fa-a281-b51d5ef510aa",
        "trusted": true,
        "id": "2OIyMXSMlj3w"
      }
    },
    {
      "cell_type": "code",
      "source": [
        "batch_size = 64\n",
        "imageSize = 64\n",
        "target_dims = (imageSize, imageSize, 3)\n",
        "num_classes = 29\n",
        "\n",
        "train_len = 87000\n",
        "train_dir = '/kaggle/input/asl-alphabet/asl_alphabet_train/asl_alphabet_train/'\n",
        "\n",
        "def get_data(folder):\n",
        "    X = np.empty((train_len, imageSize, imageSize, 3), dtype=np.float32)\n",
        "    y = np.empty((train_len,), dtype=np.int)\n",
        "    cnt = 0\n",
        "    for folderName in os.listdir(folder):\n",
        "        if not folderName.startswith('.'):\n",
        "            if folderName in ['A']:\n",
        "                label = 0\n",
        "            elif folderName in ['B']:\n",
        "                label = 1\n",
        "            elif folderName in ['C']:\n",
        "                label = 2\n",
        "            elif folderName in ['D']:\n",
        "                label = 3\n",
        "            elif folderName in ['E']:\n",
        "                label = 4\n",
        "            elif folderName in ['F']:\n",
        "                label = 5\n",
        "            elif folderName in ['G']:\n",
        "                label = 6\n",
        "            elif folderName in ['H']:\n",
        "                label = 7\n",
        "            elif folderName in ['I']:\n",
        "                label = 8\n",
        "            elif folderName in ['J']:\n",
        "                label = 9\n",
        "            elif folderName in ['K']:\n",
        "                label = 10\n",
        "            elif folderName in ['L']:\n",
        "                label = 11\n",
        "            elif folderName in ['M']:\n",
        "                label = 12\n",
        "            elif folderName in ['N']:\n",
        "                label = 13\n",
        "            elif folderName in ['O']:\n",
        "                label = 14\n",
        "            elif folderName in ['P']:\n",
        "                label = 15\n",
        "            elif folderName in ['Q']:\n",
        "                label = 16\n",
        "            elif folderName in ['R']:\n",
        "                label = 17\n",
        "            elif folderName in ['S']:\n",
        "                label = 18\n",
        "            elif folderName in ['T']:\n",
        "                label = 19\n",
        "            elif folderName in ['U']:\n",
        "                label = 20\n",
        "            elif folderName in ['V']:\n",
        "                label = 21\n",
        "            elif folderName in ['W']:\n",
        "                label = 22\n",
        "            elif folderName in ['X']:\n",
        "                label = 23\n",
        "            elif folderName in ['Y']:\n",
        "                label = 24\n",
        "            elif folderName in ['Z']:\n",
        "                label = 25\n",
        "            elif folderName in ['del']:\n",
        "                label = 26\n",
        "            elif folderName in ['nothing']:\n",
        "                label = 27\n",
        "            elif folderName in ['space']:\n",
        "                label = 28\n",
        "            else:\n",
        "                label = 29\n",
        "            for image_filename in os.listdir(folder + folderName):\n",
        "                img_file = cv2.imread(folder + folderName + '/' + image_filename)\n",
        "                if img_file is not None:\n",
        "                    img_file = skimage.transform.resize(img_file, (imageSize, imageSize, 3))\n",
        "                    img_arr = np.asarray(img_file).reshape((-1, imageSize, imageSize, 3))\n",
        "\n",
        "                    X[cnt] = img_arr\n",
        "                    y[cnt] = label\n",
        "                    cnt += 1\n",
        "    return X,y\n",
        "X_train, y_train = get_data(train_dir)\n",
        "print(\"Images successfully imported...\")"
      ],
      "metadata": {
        "_uuid": "0fab0f82-e179-4781-ad9d-973fed3ae070",
        "_cell_guid": "2265d143-13e7-43d9-b72d-18eb4b42ac2e",
        "jupyter": {
          "outputs_hidden": false
        },
        "_kg_hide-input": true,
        "trusted": true,
        "id": "y8EwwgrHlj3w"
      },
      "execution_count": null,
      "outputs": []
    },
    {
      "cell_type": "markdown",
      "source": [
        "#### 2.1 Checking the shape of data <a id=3></a>"
      ],
      "metadata": {
        "id": "cB9ndiEjlj3x"
      }
    },
    {
      "cell_type": "code",
      "source": [
        "print(\"The shape of X_train is : \", X_train.shape)\n",
        "print(\"The shape of y_train is : \", y_train.shape)"
      ],
      "metadata": {
        "_uuid": "a5add51b-31da-4c0e-b1ff-573184900634",
        "_cell_guid": "067c2ef4-496b-4a67-bf5a-cc7a139ab7bd",
        "jupyter": {
          "outputs_hidden": false
        },
        "_kg_hide-input": true,
        "trusted": true,
        "id": "5-NWryIAlj3x"
      },
      "execution_count": null,
      "outputs": []
    },
    {
      "cell_type": "markdown",
      "source": [
        "#### 2.2 Checking the shape of one image <a id=4></a>"
      ],
      "metadata": {
        "id": "Z1cb7o9Vlj3x"
      }
    },
    {
      "cell_type": "code",
      "source": [
        "print(\"The shape of one image is : \", X_train[0].shape)"
      ],
      "metadata": {
        "_uuid": "d26a695b-50e9-48ba-b70d-46bd2eb2a6f6",
        "_cell_guid": "900696c7-8be7-4337-a43f-16ccd81340f9",
        "jupyter": {
          "outputs_hidden": false
        },
        "_kg_hide-input": true,
        "trusted": true,
        "id": "qJuCjjr6lj3x"
      },
      "execution_count": null,
      "outputs": []
    },
    {
      "cell_type": "markdown",
      "source": [
        "#### 2.3 Viewing the image <a id=5></a>"
      ],
      "metadata": {
        "id": "S-S_ywL1lj3x"
      }
    },
    {
      "cell_type": "code",
      "source": [
        "plt.imshow(X_train[0])\n",
        "plt.show()"
      ],
      "metadata": {
        "_uuid": "47fc5cad-9dc5-4d85-81e4-063e6e0a084f",
        "_cell_guid": "07904f67-f959-4785-a2a9-d26da5737f73",
        "jupyter": {
          "outputs_hidden": false
        },
        "_kg_hide-input": true,
        "trusted": true,
        "id": "H99xh1Xolj3y"
      },
      "execution_count": null,
      "outputs": []
    },
    {
      "cell_type": "markdown",
      "source": [
        "##### 2.3.1 Making copies of original data"
      ],
      "metadata": {
        "id": "f_8LmtJ9lj3y"
      }
    },
    {
      "cell_type": "code",
      "source": [
        "X_data = X_train\n",
        "y_data = y_train\n",
        "print(\"Copies made...\")"
      ],
      "metadata": {
        "_uuid": "1a129c25-b487-4d64-bb95-ce34367497d6",
        "_cell_guid": "565a6756-d740-4ebe-ab3a-edd5d10d89cf",
        "jupyter": {
          "outputs_hidden": false
        },
        "_kg_hide-input": true,
        "trusted": true,
        "id": "vhz-oyoHlj3y"
      },
      "execution_count": null,
      "outputs": []
    },
    {
      "cell_type": "markdown",
      "source": [
        "### 3. Data processing <a id=6></a>"
      ],
      "metadata": {
        "_uuid": "7b6c425c-49f0-4617-bda4-cf848cb75f14",
        "_cell_guid": "37d05451-8836-41ff-865f-cdc9ea9567b0",
        "trusted": true,
        "id": "Kqa86Ajylj3y"
      }
    },
    {
      "cell_type": "markdown",
      "source": [
        "#### 3.1 Train/test split <a id=7></a>"
      ],
      "metadata": {
        "id": "VsnjpTvhlj3y"
      }
    },
    {
      "cell_type": "code",
      "source": [
        "from sklearn.model_selection import train_test_split\n",
        "\n",
        "X_train, X_test, y_train, y_test = train_test_split(X_data, y_data, test_size=0.3,random_state=42,stratify=y_data)"
      ],
      "metadata": {
        "_uuid": "100112bd-a136-4fb9-bb03-ef07020a294f",
        "_cell_guid": "f834b860-92b6-49ca-8fc0-f3a3f20d7456",
        "jupyter": {
          "outputs_hidden": false
        },
        "_kg_hide-input": true,
        "trusted": true,
        "id": "BOM-zf2olj3y"
      },
      "execution_count": null,
      "outputs": []
    },
    {
      "cell_type": "markdown",
      "source": [
        "#### 3.2 One-Hot-Encoding <a id=8></a>"
      ],
      "metadata": {
        "id": "tfSDeR_8lj3y"
      }
    },
    {
      "cell_type": "code",
      "source": [
        "# One-Hot-Encoding the categorical data\n",
        "from tensorflow.keras.utils import to_categorical\n",
        "y_cat_train = to_categorical(y_train,29)\n",
        "y_cat_test = to_categorical(y_test,29)"
      ],
      "metadata": {
        "_uuid": "df3ce29e-d4a1-41cc-a980-a1fdddbb83b8",
        "_cell_guid": "9257b00c-3b27-4e54-967d-903b7e52e65f",
        "jupyter": {
          "outputs_hidden": false
        },
        "_kg_hide-input": true,
        "trusted": true,
        "id": "-kwvjuSElj3y"
      },
      "execution_count": null,
      "outputs": []
    },
    {
      "cell_type": "markdown",
      "source": [
        "#### 3.3 Dimension Check of variables <a id=9></a>"
      ],
      "metadata": {
        "id": "12kVfptMlj3y"
      }
    },
    {
      "cell_type": "code",
      "source": [
        "# Checking the dimensions of all the variables\n",
        "print(X_train.shape)\n",
        "print(y_train.shape)\n",
        "print(X_test.shape)\n",
        "print(y_test.shape)\n",
        "print(y_cat_train.shape)\n",
        "print(y_cat_test.shape)"
      ],
      "metadata": {
        "_uuid": "e9f8c8b8-df33-48f5-92a4-1e4d9a5393c4",
        "_cell_guid": "dae48de7-8e50-4c4e-a297-d8e3c09741da",
        "jupyter": {
          "outputs_hidden": false
        },
        "_kg_hide-input": true,
        "trusted": true,
        "id": "-D6rCjghlj3y"
      },
      "execution_count": null,
      "outputs": []
    },
    {
      "cell_type": "markdown",
      "source": [
        "### 4. Garbage Collection <a id=10></a>"
      ],
      "metadata": {
        "_uuid": "e2310305-968c-4304-98c0-0fa6f948f7ed",
        "_cell_guid": "5ea40005-f9c4-45d8-b5fc-62efbbc7552f",
        "trusted": true,
        "id": "ffEiAbyBlj3y"
      }
    },
    {
      "cell_type": "code",
      "source": [
        "# This is done to save CPU and RAM space while working on Kaggle Kernels. This will delete the specified data and save some space!\n",
        "import gc\n",
        "del X_data\n",
        "del y_data\n",
        "gc.collect()"
      ],
      "metadata": {
        "_uuid": "0d1a9c60-97e0-4d93-96a2-8414ebe5a77b",
        "_cell_guid": "60b60e7c-5ad2-4200-b77b-d780c19a63c8",
        "jupyter": {
          "outputs_hidden": false
        },
        "_kg_hide-input": true,
        "trusted": true,
        "id": "u4rOoiiJlj3y"
      },
      "execution_count": null,
      "outputs": []
    },
    {
      "cell_type": "markdown",
      "source": [
        "### 5. Modeling <a id=11></a>"
      ],
      "metadata": {
        "_uuid": "260a1235-958e-4446-a8c1-49ba2e8edda3",
        "_cell_guid": "d6ccd7c2-0204-438f-adf9-5a43f02a9978",
        "trusted": true,
        "id": "OEvEJifNlj3y"
      }
    },
    {
      "cell_type": "markdown",
      "source": [
        "#### 5.1 Importing packages <a id=12></a>"
      ],
      "metadata": {
        "id": "1f7ER7tUlj3y"
      }
    },
    {
      "cell_type": "code",
      "source": [
        "from keras.models import Sequential\n",
        "from keras.layers import Conv2D, MaxPooling2D, Activation, Dense, Flatten\n",
        "print(\"Packages imported...\")"
      ],
      "metadata": {
        "_uuid": "6900c3dd-09dc-4f84-bbc4-2515d2d6c193",
        "_cell_guid": "600cfa51-bec1-496f-ac4d-fe9cb700c03d",
        "jupyter": {
          "outputs_hidden": false
        },
        "_kg_hide-input": true,
        "trusted": true,
        "id": "OshE0waYlj3z",
        "outputId": "80e694e2-698c-4d7c-a7cd-c6676b8f20cc",
        "colab": {
          "base_uri": "https://localhost:8080/"
        }
      },
      "execution_count": 22,
      "outputs": [
        {
          "output_type": "stream",
          "name": "stdout",
          "text": [
            "Packages imported...\n"
          ]
        }
      ]
    },
    {
      "cell_type": "markdown",
      "source": [
        "#### 5.2 Building model <a id=13></a>"
      ],
      "metadata": {
        "id": "agxNQ1Zqlj3z"
      }
    },
    {
      "cell_type": "code",
      "source": [
        "model = Sequential()\n",
        "\n",
        "model.add(Conv2D(32, (5, 5), input_shape=(64, 64, 3)))\n",
        "model.add(Activation('relu'))\n",
        "model.add(MaxPooling2D((2, 2)))\n",
        "\n",
        "model.add(Conv2D(64, (3, 3)))\n",
        "model.add(Activation('relu'))\n",
        "model.add(MaxPooling2D((2, 2)))\n",
        "\n",
        "model.add(Conv2D(64, (3, 3)))\n",
        "model.add(Activation('relu'))\n",
        "model.add(MaxPooling2D((2, 2)))\n",
        "\n",
        "model.add(Flatten())\n",
        "\n",
        "model.add(Dense(128, activation='relu'))\n",
        "\n",
        "model.add(Dense(29, activation='softmax'))\n",
        "\n",
        "model.summary()"
      ],
      "metadata": {
        "_uuid": "43bd378a-609f-4de1-a1ad-b1d169351098",
        "_cell_guid": "17f3751b-4927-483b-9d60-effe1ee70cf1",
        "jupyter": {
          "outputs_hidden": false
        },
        "_kg_hide-input": true,
        "trusted": true,
        "id": "zdWjIPWtlj3z",
        "outputId": "53882f50-2f34-45cd-8407-f7e9f61fce24",
        "colab": {
          "base_uri": "https://localhost:8080/",
          "height": 569
        }
      },
      "execution_count": 23,
      "outputs": [
        {
          "output_type": "stream",
          "name": "stderr",
          "text": [
            "/usr/local/lib/python3.11/dist-packages/keras/src/layers/convolutional/base_conv.py:107: UserWarning: Do not pass an `input_shape`/`input_dim` argument to a layer. When using Sequential models, prefer using an `Input(shape)` object as the first layer in the model instead.\n",
            "  super().__init__(activity_regularizer=activity_regularizer, **kwargs)\n"
          ]
        },
        {
          "output_type": "display_data",
          "data": {
            "text/plain": [
              "\u001b[1mModel: \"sequential\"\u001b[0m\n"
            ],
            "text/html": [
              "<pre style=\"white-space:pre;overflow-x:auto;line-height:normal;font-family:Menlo,'DejaVu Sans Mono',consolas,'Courier New',monospace\"><span style=\"font-weight: bold\">Model: \"sequential\"</span>\n",
              "</pre>\n"
            ]
          },
          "metadata": {}
        },
        {
          "output_type": "display_data",
          "data": {
            "text/plain": [
              "┏━━━━━━━━━━━━━━━━━━━━━━━━━━━━━━━━━┳━━━━━━━━━━━━━━━━━━━━━━━━┳━━━━━━━━━━━━━━━┓\n",
              "┃\u001b[1m \u001b[0m\u001b[1mLayer (type)                   \u001b[0m\u001b[1m \u001b[0m┃\u001b[1m \u001b[0m\u001b[1mOutput Shape          \u001b[0m\u001b[1m \u001b[0m┃\u001b[1m \u001b[0m\u001b[1m      Param #\u001b[0m\u001b[1m \u001b[0m┃\n",
              "┡━━━━━━━━━━━━━━━━━━━━━━━━━━━━━━━━━╇━━━━━━━━━━━━━━━━━━━━━━━━╇━━━━━━━━━━━━━━━┩\n",
              "│ conv2d (\u001b[38;5;33mConv2D\u001b[0m)                 │ (\u001b[38;5;45mNone\u001b[0m, \u001b[38;5;34m60\u001b[0m, \u001b[38;5;34m60\u001b[0m, \u001b[38;5;34m32\u001b[0m)     │         \u001b[38;5;34m2,432\u001b[0m │\n",
              "├─────────────────────────────────┼────────────────────────┼───────────────┤\n",
              "│ activation (\u001b[38;5;33mActivation\u001b[0m)         │ (\u001b[38;5;45mNone\u001b[0m, \u001b[38;5;34m60\u001b[0m, \u001b[38;5;34m60\u001b[0m, \u001b[38;5;34m32\u001b[0m)     │             \u001b[38;5;34m0\u001b[0m │\n",
              "├─────────────────────────────────┼────────────────────────┼───────────────┤\n",
              "│ max_pooling2d (\u001b[38;5;33mMaxPooling2D\u001b[0m)    │ (\u001b[38;5;45mNone\u001b[0m, \u001b[38;5;34m30\u001b[0m, \u001b[38;5;34m30\u001b[0m, \u001b[38;5;34m32\u001b[0m)     │             \u001b[38;5;34m0\u001b[0m │\n",
              "├─────────────────────────────────┼────────────────────────┼───────────────┤\n",
              "│ conv2d_1 (\u001b[38;5;33mConv2D\u001b[0m)               │ (\u001b[38;5;45mNone\u001b[0m, \u001b[38;5;34m28\u001b[0m, \u001b[38;5;34m28\u001b[0m, \u001b[38;5;34m64\u001b[0m)     │        \u001b[38;5;34m18,496\u001b[0m │\n",
              "├─────────────────────────────────┼────────────────────────┼───────────────┤\n",
              "│ activation_1 (\u001b[38;5;33mActivation\u001b[0m)       │ (\u001b[38;5;45mNone\u001b[0m, \u001b[38;5;34m28\u001b[0m, \u001b[38;5;34m28\u001b[0m, \u001b[38;5;34m64\u001b[0m)     │             \u001b[38;5;34m0\u001b[0m │\n",
              "├─────────────────────────────────┼────────────────────────┼───────────────┤\n",
              "│ max_pooling2d_1 (\u001b[38;5;33mMaxPooling2D\u001b[0m)  │ (\u001b[38;5;45mNone\u001b[0m, \u001b[38;5;34m14\u001b[0m, \u001b[38;5;34m14\u001b[0m, \u001b[38;5;34m64\u001b[0m)     │             \u001b[38;5;34m0\u001b[0m │\n",
              "├─────────────────────────────────┼────────────────────────┼───────────────┤\n",
              "│ conv2d_2 (\u001b[38;5;33mConv2D\u001b[0m)               │ (\u001b[38;5;45mNone\u001b[0m, \u001b[38;5;34m12\u001b[0m, \u001b[38;5;34m12\u001b[0m, \u001b[38;5;34m64\u001b[0m)     │        \u001b[38;5;34m36,928\u001b[0m │\n",
              "├─────────────────────────────────┼────────────────────────┼───────────────┤\n",
              "│ activation_2 (\u001b[38;5;33mActivation\u001b[0m)       │ (\u001b[38;5;45mNone\u001b[0m, \u001b[38;5;34m12\u001b[0m, \u001b[38;5;34m12\u001b[0m, \u001b[38;5;34m64\u001b[0m)     │             \u001b[38;5;34m0\u001b[0m │\n",
              "├─────────────────────────────────┼────────────────────────┼───────────────┤\n",
              "│ max_pooling2d_2 (\u001b[38;5;33mMaxPooling2D\u001b[0m)  │ (\u001b[38;5;45mNone\u001b[0m, \u001b[38;5;34m6\u001b[0m, \u001b[38;5;34m6\u001b[0m, \u001b[38;5;34m64\u001b[0m)       │             \u001b[38;5;34m0\u001b[0m │\n",
              "├─────────────────────────────────┼────────────────────────┼───────────────┤\n",
              "│ flatten (\u001b[38;5;33mFlatten\u001b[0m)               │ (\u001b[38;5;45mNone\u001b[0m, \u001b[38;5;34m2304\u001b[0m)           │             \u001b[38;5;34m0\u001b[0m │\n",
              "├─────────────────────────────────┼────────────────────────┼───────────────┤\n",
              "│ dense (\u001b[38;5;33mDense\u001b[0m)                   │ (\u001b[38;5;45mNone\u001b[0m, \u001b[38;5;34m128\u001b[0m)            │       \u001b[38;5;34m295,040\u001b[0m │\n",
              "├─────────────────────────────────┼────────────────────────┼───────────────┤\n",
              "│ dense_1 (\u001b[38;5;33mDense\u001b[0m)                 │ (\u001b[38;5;45mNone\u001b[0m, \u001b[38;5;34m29\u001b[0m)             │         \u001b[38;5;34m3,741\u001b[0m │\n",
              "└─────────────────────────────────┴────────────────────────┴───────────────┘\n"
            ],
            "text/html": [
              "<pre style=\"white-space:pre;overflow-x:auto;line-height:normal;font-family:Menlo,'DejaVu Sans Mono',consolas,'Courier New',monospace\">┏━━━━━━━━━━━━━━━━━━━━━━━━━━━━━━━━━┳━━━━━━━━━━━━━━━━━━━━━━━━┳━━━━━━━━━━━━━━━┓\n",
              "┃<span style=\"font-weight: bold\"> Layer (type)                    </span>┃<span style=\"font-weight: bold\"> Output Shape           </span>┃<span style=\"font-weight: bold\">       Param # </span>┃\n",
              "┡━━━━━━━━━━━━━━━━━━━━━━━━━━━━━━━━━╇━━━━━━━━━━━━━━━━━━━━━━━━╇━━━━━━━━━━━━━━━┩\n",
              "│ conv2d (<span style=\"color: #0087ff; text-decoration-color: #0087ff\">Conv2D</span>)                 │ (<span style=\"color: #00d7ff; text-decoration-color: #00d7ff\">None</span>, <span style=\"color: #00af00; text-decoration-color: #00af00\">60</span>, <span style=\"color: #00af00; text-decoration-color: #00af00\">60</span>, <span style=\"color: #00af00; text-decoration-color: #00af00\">32</span>)     │         <span style=\"color: #00af00; text-decoration-color: #00af00\">2,432</span> │\n",
              "├─────────────────────────────────┼────────────────────────┼───────────────┤\n",
              "│ activation (<span style=\"color: #0087ff; text-decoration-color: #0087ff\">Activation</span>)         │ (<span style=\"color: #00d7ff; text-decoration-color: #00d7ff\">None</span>, <span style=\"color: #00af00; text-decoration-color: #00af00\">60</span>, <span style=\"color: #00af00; text-decoration-color: #00af00\">60</span>, <span style=\"color: #00af00; text-decoration-color: #00af00\">32</span>)     │             <span style=\"color: #00af00; text-decoration-color: #00af00\">0</span> │\n",
              "├─────────────────────────────────┼────────────────────────┼───────────────┤\n",
              "│ max_pooling2d (<span style=\"color: #0087ff; text-decoration-color: #0087ff\">MaxPooling2D</span>)    │ (<span style=\"color: #00d7ff; text-decoration-color: #00d7ff\">None</span>, <span style=\"color: #00af00; text-decoration-color: #00af00\">30</span>, <span style=\"color: #00af00; text-decoration-color: #00af00\">30</span>, <span style=\"color: #00af00; text-decoration-color: #00af00\">32</span>)     │             <span style=\"color: #00af00; text-decoration-color: #00af00\">0</span> │\n",
              "├─────────────────────────────────┼────────────────────────┼───────────────┤\n",
              "│ conv2d_1 (<span style=\"color: #0087ff; text-decoration-color: #0087ff\">Conv2D</span>)               │ (<span style=\"color: #00d7ff; text-decoration-color: #00d7ff\">None</span>, <span style=\"color: #00af00; text-decoration-color: #00af00\">28</span>, <span style=\"color: #00af00; text-decoration-color: #00af00\">28</span>, <span style=\"color: #00af00; text-decoration-color: #00af00\">64</span>)     │        <span style=\"color: #00af00; text-decoration-color: #00af00\">18,496</span> │\n",
              "├─────────────────────────────────┼────────────────────────┼───────────────┤\n",
              "│ activation_1 (<span style=\"color: #0087ff; text-decoration-color: #0087ff\">Activation</span>)       │ (<span style=\"color: #00d7ff; text-decoration-color: #00d7ff\">None</span>, <span style=\"color: #00af00; text-decoration-color: #00af00\">28</span>, <span style=\"color: #00af00; text-decoration-color: #00af00\">28</span>, <span style=\"color: #00af00; text-decoration-color: #00af00\">64</span>)     │             <span style=\"color: #00af00; text-decoration-color: #00af00\">0</span> │\n",
              "├─────────────────────────────────┼────────────────────────┼───────────────┤\n",
              "│ max_pooling2d_1 (<span style=\"color: #0087ff; text-decoration-color: #0087ff\">MaxPooling2D</span>)  │ (<span style=\"color: #00d7ff; text-decoration-color: #00d7ff\">None</span>, <span style=\"color: #00af00; text-decoration-color: #00af00\">14</span>, <span style=\"color: #00af00; text-decoration-color: #00af00\">14</span>, <span style=\"color: #00af00; text-decoration-color: #00af00\">64</span>)     │             <span style=\"color: #00af00; text-decoration-color: #00af00\">0</span> │\n",
              "├─────────────────────────────────┼────────────────────────┼───────────────┤\n",
              "│ conv2d_2 (<span style=\"color: #0087ff; text-decoration-color: #0087ff\">Conv2D</span>)               │ (<span style=\"color: #00d7ff; text-decoration-color: #00d7ff\">None</span>, <span style=\"color: #00af00; text-decoration-color: #00af00\">12</span>, <span style=\"color: #00af00; text-decoration-color: #00af00\">12</span>, <span style=\"color: #00af00; text-decoration-color: #00af00\">64</span>)     │        <span style=\"color: #00af00; text-decoration-color: #00af00\">36,928</span> │\n",
              "├─────────────────────────────────┼────────────────────────┼───────────────┤\n",
              "│ activation_2 (<span style=\"color: #0087ff; text-decoration-color: #0087ff\">Activation</span>)       │ (<span style=\"color: #00d7ff; text-decoration-color: #00d7ff\">None</span>, <span style=\"color: #00af00; text-decoration-color: #00af00\">12</span>, <span style=\"color: #00af00; text-decoration-color: #00af00\">12</span>, <span style=\"color: #00af00; text-decoration-color: #00af00\">64</span>)     │             <span style=\"color: #00af00; text-decoration-color: #00af00\">0</span> │\n",
              "├─────────────────────────────────┼────────────────────────┼───────────────┤\n",
              "│ max_pooling2d_2 (<span style=\"color: #0087ff; text-decoration-color: #0087ff\">MaxPooling2D</span>)  │ (<span style=\"color: #00d7ff; text-decoration-color: #00d7ff\">None</span>, <span style=\"color: #00af00; text-decoration-color: #00af00\">6</span>, <span style=\"color: #00af00; text-decoration-color: #00af00\">6</span>, <span style=\"color: #00af00; text-decoration-color: #00af00\">64</span>)       │             <span style=\"color: #00af00; text-decoration-color: #00af00\">0</span> │\n",
              "├─────────────────────────────────┼────────────────────────┼───────────────┤\n",
              "│ flatten (<span style=\"color: #0087ff; text-decoration-color: #0087ff\">Flatten</span>)               │ (<span style=\"color: #00d7ff; text-decoration-color: #00d7ff\">None</span>, <span style=\"color: #00af00; text-decoration-color: #00af00\">2304</span>)           │             <span style=\"color: #00af00; text-decoration-color: #00af00\">0</span> │\n",
              "├─────────────────────────────────┼────────────────────────┼───────────────┤\n",
              "│ dense (<span style=\"color: #0087ff; text-decoration-color: #0087ff\">Dense</span>)                   │ (<span style=\"color: #00d7ff; text-decoration-color: #00d7ff\">None</span>, <span style=\"color: #00af00; text-decoration-color: #00af00\">128</span>)            │       <span style=\"color: #00af00; text-decoration-color: #00af00\">295,040</span> │\n",
              "├─────────────────────────────────┼────────────────────────┼───────────────┤\n",
              "│ dense_1 (<span style=\"color: #0087ff; text-decoration-color: #0087ff\">Dense</span>)                 │ (<span style=\"color: #00d7ff; text-decoration-color: #00d7ff\">None</span>, <span style=\"color: #00af00; text-decoration-color: #00af00\">29</span>)             │         <span style=\"color: #00af00; text-decoration-color: #00af00\">3,741</span> │\n",
              "└─────────────────────────────────┴────────────────────────┴───────────────┘\n",
              "</pre>\n"
            ]
          },
          "metadata": {}
        },
        {
          "output_type": "display_data",
          "data": {
            "text/plain": [
              "\u001b[1m Total params: \u001b[0m\u001b[38;5;34m356,637\u001b[0m (1.36 MB)\n"
            ],
            "text/html": [
              "<pre style=\"white-space:pre;overflow-x:auto;line-height:normal;font-family:Menlo,'DejaVu Sans Mono',consolas,'Courier New',monospace\"><span style=\"font-weight: bold\"> Total params: </span><span style=\"color: #00af00; text-decoration-color: #00af00\">356,637</span> (1.36 MB)\n",
              "</pre>\n"
            ]
          },
          "metadata": {}
        },
        {
          "output_type": "display_data",
          "data": {
            "text/plain": [
              "\u001b[1m Trainable params: \u001b[0m\u001b[38;5;34m356,637\u001b[0m (1.36 MB)\n"
            ],
            "text/html": [
              "<pre style=\"white-space:pre;overflow-x:auto;line-height:normal;font-family:Menlo,'DejaVu Sans Mono',consolas,'Courier New',monospace\"><span style=\"font-weight: bold\"> Trainable params: </span><span style=\"color: #00af00; text-decoration-color: #00af00\">356,637</span> (1.36 MB)\n",
              "</pre>\n"
            ]
          },
          "metadata": {}
        },
        {
          "output_type": "display_data",
          "data": {
            "text/plain": [
              "\u001b[1m Non-trainable params: \u001b[0m\u001b[38;5;34m0\u001b[0m (0.00 B)\n"
            ],
            "text/html": [
              "<pre style=\"white-space:pre;overflow-x:auto;line-height:normal;font-family:Menlo,'DejaVu Sans Mono',consolas,'Courier New',monospace\"><span style=\"font-weight: bold\"> Non-trainable params: </span><span style=\"color: #00af00; text-decoration-color: #00af00\">0</span> (0.00 B)\n",
              "</pre>\n"
            ]
          },
          "metadata": {}
        }
      ]
    },
    {
      "cell_type": "markdown",
      "source": [
        "#### 5.3 Early Stopping and Compiling <a id=14></a>"
      ],
      "metadata": {
        "id": "ko0bmKomlj3z"
      }
    },
    {
      "cell_type": "markdown",
      "source": [
        "##### 5.3.1 Early Stopping"
      ],
      "metadata": {
        "id": "Q7k4gbAQlj3z"
      }
    },
    {
      "cell_type": "markdown",
      "source": [
        "Early Stopping is done to make sure the model fitting stops at the most optimized accuracy point. After the early stopping point, the model might start overfitting. For testing purposes, this step can be skipped and complete training can be done."
      ],
      "metadata": {
        "id": "niBbjE7clj3z"
      }
    },
    {
      "cell_type": "code",
      "source": [
        "from tensorflow.keras.callbacks import EarlyStopping\n",
        "early_stop = EarlyStopping(monitor='val_loss',patience=2)"
      ],
      "metadata": {
        "_uuid": "e48b5f93-6c7b-4cfa-af41-0ef7f449b51e",
        "_cell_guid": "166bc66e-a184-4685-8bab-07a4fd82b5c5",
        "jupyter": {
          "outputs_hidden": false
        },
        "_kg_hide-input": true,
        "trusted": true,
        "id": "j2exHhKdlj3z"
      },
      "execution_count": null,
      "outputs": []
    },
    {
      "cell_type": "markdown",
      "source": [
        "##### 5.3.2 Compiling"
      ],
      "metadata": {
        "id": "HV8Jhu3Llj3z"
      }
    },
    {
      "cell_type": "code",
      "source": [
        "model.compile(optimizer='adam',\n",
        "              loss='categorical_crossentropy',\n",
        "              metrics=['accuracy'])"
      ],
      "metadata": {
        "_uuid": "45f4dafb-d26a-4c14-896a-cde3dff1212a",
        "_cell_guid": "207189e1-ee1b-466d-b032-c0e24c10d942",
        "jupyter": {
          "outputs_hidden": false
        },
        "_kg_hide-input": true,
        "trusted": true,
        "id": "oYslaUvrlj3z"
      },
      "execution_count": null,
      "outputs": []
    },
    {
      "cell_type": "markdown",
      "source": [
        "#### 5.4 Model fitting <a id=15></a>"
      ],
      "metadata": {
        "_uuid": "9cad5ad2-3087-4237-8354-32633dab6b1d",
        "_cell_guid": "e8138e59-3c44-4575-ab15-c2f9a605e8ae",
        "trusted": true,
        "id": "1KaIAx4Hlj3z"
      }
    },
    {
      "cell_type": "code",
      "source": [
        "model.fit(X_train, y_cat_train,\n",
        "          epochs=50,\n",
        "          batch_size=64,\n",
        "          verbose=2,\n",
        "          validation_data=(X_test, y_cat_test),\n",
        "         callbacks=[early_stop])"
      ],
      "metadata": {
        "_uuid": "1a1d6a1a-a207-41af-920b-044f27265cfa",
        "_cell_guid": "821c522f-11c6-45e9-aae9-b0f85167f8be",
        "jupyter": {
          "outputs_hidden": false
        },
        "_kg_hide-input": true,
        "trusted": true,
        "id": "FspNiq1clj3z"
      },
      "execution_count": null,
      "outputs": []
    },
    {
      "cell_type": "markdown",
      "source": [
        "#### 5.5 Model metrics <a id=16></a>"
      ],
      "metadata": {
        "_uuid": "8ebe106b-4eeb-44ca-9afb-9c91d02962b2",
        "_cell_guid": "2c72fb78-8a46-4faf-ab4b-339b65c8b9dd",
        "trusted": true,
        "id": "rn5u80Dllj3z"
      }
    },
    {
      "cell_type": "markdown",
      "source": [
        "##### 5.5.1 Metrics from model history"
      ],
      "metadata": {
        "id": "vYejOnxUlj33"
      }
    },
    {
      "cell_type": "code",
      "source": [
        "metrics = pd.DataFrame(model.history.history)\n",
        "print(\"The model metrics are\")\n",
        "metrics"
      ],
      "metadata": {
        "_uuid": "e1e23093-cca8-4e14-875f-2a7e2fd88f2c",
        "_cell_guid": "74862d05-feff-4e9c-b634-77b5a2daa8c6",
        "jupyter": {
          "outputs_hidden": false
        },
        "_kg_hide-input": true,
        "trusted": true,
        "id": "yA36y0E5lj33"
      },
      "execution_count": null,
      "outputs": []
    },
    {
      "cell_type": "markdown",
      "source": [
        "##### 5.5.2 Plotting the training loss"
      ],
      "metadata": {
        "id": "0J7rhxjPlj33"
      }
    },
    {
      "cell_type": "code",
      "source": [
        "metrics[['loss','val_loss']].plot()\n",
        "plt.show()"
      ],
      "metadata": {
        "_uuid": "6ab8f14a-faa4-446f-9fc9-afc2778ce699",
        "_cell_guid": "de0a1bf2-1bd7-4cb3-a63a-3b3fb85618e3",
        "jupyter": {
          "outputs_hidden": false
        },
        "_kg_hide-input": true,
        "trusted": true,
        "id": "lt1xJ_folj33"
      },
      "execution_count": null,
      "outputs": []
    },
    {
      "cell_type": "markdown",
      "source": [
        "##### 5.5.3 Plotting the testing loss"
      ],
      "metadata": {
        "id": "LG9Yi8mblj33"
      }
    },
    {
      "cell_type": "code",
      "source": [
        "metrics[['accuracy','val_accuracy']].plot()\n",
        "plt.show()"
      ],
      "metadata": {
        "_uuid": "97d6cb1a-10ec-4849-a1b2-f0551b704b4c",
        "_cell_guid": "9209698c-13bb-4ae9-a309-79771ac5354d",
        "jupyter": {
          "outputs_hidden": false
        },
        "_kg_hide-input": true,
        "trusted": true,
        "id": "5WryemK8lj33"
      },
      "execution_count": null,
      "outputs": []
    },
    {
      "cell_type": "markdown",
      "source": [
        "##### 5.5.4 Model evaluation"
      ],
      "metadata": {
        "id": "2AH1EhJMlj33"
      }
    },
    {
      "cell_type": "code",
      "source": [
        "model.evaluate(X_test,y_cat_test,verbose=0)"
      ],
      "metadata": {
        "_uuid": "828a8b42-c224-488e-8e38-34b5d98e2ae7",
        "_cell_guid": "716cf381-329b-499d-901b-f035117ccc13",
        "jupyter": {
          "outputs_hidden": false
        },
        "_kg_hide-input": true,
        "trusted": true,
        "id": "i42HzQZPlj33"
      },
      "execution_count": null,
      "outputs": []
    },
    {
      "cell_type": "markdown",
      "source": [
        "#### 5.6 Predictions <a id=17></a>"
      ],
      "metadata": {
        "id": "S6XFF3-plj33"
      }
    },
    {
      "cell_type": "code",
      "source": [
        "predictions = model.predict_classes(X_test)\n",
        "print(\"Predictions done...\")"
      ],
      "metadata": {
        "_uuid": "f7df04f7-8d68-4adf-9909-fb2dc722447f",
        "_cell_guid": "d2d154b6-4555-4fee-a172-d23850b90d99",
        "jupyter": {
          "outputs_hidden": false
        },
        "_kg_hide-input": true,
        "trusted": true,
        "id": "zYrKOtbqlj33"
      },
      "execution_count": null,
      "outputs": []
    },
    {
      "cell_type": "markdown",
      "source": [
        "##### 5.6.1 Classification report"
      ],
      "metadata": {
        "id": "gX-Wlloslj33"
      }
    },
    {
      "cell_type": "code",
      "source": [
        "from sklearn.metrics import classification_report, confusion_matrix\n",
        "print(classification_report(y_test,predictions))"
      ],
      "metadata": {
        "_uuid": "3422a44a-c7a6-4142-9bd5-2602ad158b43",
        "_cell_guid": "ce15c91a-6167-4c26-8c20-4ce024b9550e",
        "jupyter": {
          "outputs_hidden": false
        },
        "_kg_hide-input": true,
        "trusted": true,
        "id": "1ZmcEQ1Qlj33"
      },
      "execution_count": null,
      "outputs": []
    },
    {
      "cell_type": "markdown",
      "source": [
        "##### 5.6.2 Confusion matrix heatmap"
      ],
      "metadata": {
        "id": "ZovBYsGalj34"
      }
    },
    {
      "cell_type": "code",
      "source": [
        "plt.figure(figsize=(12,12))\n",
        "sns.heatmap(confusion_matrix(y_test,predictions))\n",
        "plt.show()"
      ],
      "metadata": {
        "_uuid": "16da6316-14ee-4ea6-9c8a-e5c7dd4947b8",
        "_cell_guid": "82ddeca2-22ce-4dce-9649-62e172593c4d",
        "jupyter": {
          "outputs_hidden": false
        },
        "_kg_hide-input": true,
        "trusted": true,
        "id": "Nz5detlSlj34"
      },
      "execution_count": null,
      "outputs": []
    },
    {
      "cell_type": "markdown",
      "source": [
        "#### 5.7 Saving the model <a id=18></a>"
      ],
      "metadata": {
        "_uuid": "3e4bb569-e8a8-46bd-b454-324c9a438472",
        "_cell_guid": "3b9c82a3-3f9e-4942-ba84-4ab45a9d7c28",
        "trusted": true,
        "id": "8Uvjg7QSlj34"
      }
    },
    {
      "cell_type": "code",
      "source": [
        "# from keras.models import load_model\n",
        "# model.save('ASL.h5')\n",
        "print(\"Model saved successfully...\")"
      ],
      "metadata": {
        "_uuid": "b4ff36f4-5518-4e83-83ba-aa1233b0f571",
        "_cell_guid": "8185dcab-276b-4ded-b361-68a509f12a6b",
        "jupyter": {
          "outputs_hidden": false
        },
        "_kg_hide-input": true,
        "trusted": true,
        "id": "gMg1mMOBlj34"
      },
      "execution_count": null,
      "outputs": []
    },
    {
      "cell_type": "markdown",
      "source": [
        "[back to top](#19)"
      ],
      "metadata": {
        "_kg_hide-input": false,
        "id": "ASjpMe6vlj34"
      }
    },
    {
      "cell_type": "code",
      "source": [],
      "metadata": {
        "id": "m2vxogEblj34"
      },
      "execution_count": null,
      "outputs": []
    }
  ]
}